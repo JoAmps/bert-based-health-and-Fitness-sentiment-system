{
 "cells": [
  {
   "cell_type": "code",
   "execution_count": 1,
   "id": "f7b760b7",
   "metadata": {},
   "outputs": [
    {
     "name": "stderr",
     "output_type": "stream",
     "text": [
      "C:\\Users\\Hyacinth\\anaconda3\\envs\\tensorflow\\lib\\site-packages\\numpy\\_distributor_init.py:30: UserWarning: loaded more than 1 DLL from .libs:\n",
      "C:\\Users\\Hyacinth\\anaconda3\\envs\\tensorflow\\lib\\site-packages\\numpy\\.libs\\libopenblas.EL2C6PLE4ZYW3ECEVIV3OXXGRN2NRFM2.gfortran-win_amd64.dll\n",
      "C:\\Users\\Hyacinth\\anaconda3\\envs\\tensorflow\\lib\\site-packages\\numpy\\.libs\\libopenblas.FB5AE2TYXYH2IJRDKGDGQ3XBKLKTF43H.gfortran-win_amd64.dll\n",
      "  warnings.warn(\"loaded more than 1 DLL from .libs:\"\n",
      "[nltk_data] Downloading package stopwords to\n",
      "[nltk_data]     C:\\Users\\Hyacinth\\AppData\\Roaming\\nltk_data...\n",
      "[nltk_data]   Package stopwords is already up-to-date!\n",
      "[nltk_data] Downloading package wordnet to\n",
      "[nltk_data]     C:\\Users\\Hyacinth\\AppData\\Roaming\\nltk_data...\n",
      "[nltk_data]   Package wordnet is already up-to-date!\n",
      "[nltk_data] Downloading package omw-1.4 to\n",
      "[nltk_data]     C:\\Users\\Hyacinth\\AppData\\Roaming\\nltk_data...\n",
      "[nltk_data]   Package omw-1.4 is already up-to-date!\n"
     ]
    }
   ],
   "source": [
    "\n",
    "import transformers\n",
    "from transformers import BertModel, BertTokenizer, AdamW, get_linear_schedule_with_warmup\n",
    "from transformers import AutoModel, BertTokenizerFast,DistilBertTokenizerFast\n",
    "import torch\n",
    "import numpy as np\n",
    "import pandas as pd\n",
    "import seaborn as sns\n",
    "from pylab import rcParams\n",
    "import matplotlib.pyplot as plt\n",
    "from matplotlib import rc\n",
    "from sklearn.model_selection import train_test_split\n",
    "from sklearn.metrics import confusion_matrix, classification_report\n",
    "from collections import defaultdict\n",
    "from textwrap import wrap\n",
    "from torch import nn, optim\n",
    "from torch.utils.data import Dataset, DataLoader\n",
    "import nltk\n",
    "nltk.download('stopwords')\n",
    "nltk.download('wordnet')\n",
    "nltk.download('omw-1.4')\n",
    "from nltk.corpus import stopwords\n",
    "words = set(nltk.corpus.words.words())\n",
    "from nltk.stem.porter import PorterStemmer\n",
    "from nltk.stem import WordNetLemmatizer\n",
    "import neptune.new as neptune\n",
    "import re\n",
    "%matplotlib inline\n",
    "%config InlineBackend.figure_format='retina'\n",
    "sns.set(style='whitegrid', palette='muted', font_scale=1.2)\n",
    "HAPPY_COLORS_PALETTE = [\"#01BEFE\", \"#FFDD00\", \"#FF7D00\", \"#FF006D\", \"#ADFF02\", \"#8F00FF\"]\n",
    "sns.set_palette(sns.color_palette(HAPPY_COLORS_PALETTE))\n",
    "rcParams['figure.figsize'] = 12, 8\n",
    "RANDOM_SEED = 0\n",
    "np.random.seed(RANDOM_SEED)\n",
    "torch.manual_seed(RANDOM_SEED)\n",
    "pd.set_option('display.max_columns', None)\n",
    "device = torch.device('cuda' if torch.cuda.is_available() else 'cpu')"
   ]
  },
  {
   "cell_type": "code",
   "execution_count": 2,
   "id": "9034b933",
   "metadata": {},
   "outputs": [
    {
     "data": {
      "text/plain": [
       "'0.16.4'"
      ]
     },
     "execution_count": 2,
     "metadata": {},
     "output_type": "execute_result"
    }
   ],
   "source": [
    "neptune.__version__"
   ]
  },
  {
   "cell_type": "code",
   "execution_count": 3,
   "id": "409f81d4",
   "metadata": {},
   "outputs": [
    {
     "name": "stdout",
     "output_type": "stream",
     "text": [
      "There are 1 GPU(s) available.\n",
      "Device name: NVIDIA GeForce RTX 3060\n"
     ]
    }
   ],
   "source": [
    "if torch.cuda.is_available():       \n",
    "    device = torch.device(\"cuda\")\n",
    "    print(f'There are {torch.cuda.device_count()} GPU(s) available.')\n",
    "    print('Device name:', torch.cuda.get_device_name(0))"
   ]
  },
  {
   "cell_type": "code",
   "execution_count": 4,
   "id": "e8ec77ce",
   "metadata": {},
   "outputs": [
    {
     "data": {
      "text/html": [
       "<div>\n",
       "<style scoped>\n",
       "    .dataframe tbody tr th:only-of-type {\n",
       "        vertical-align: middle;\n",
       "    }\n",
       "\n",
       "    .dataframe tbody tr th {\n",
       "        vertical-align: top;\n",
       "    }\n",
       "\n",
       "    .dataframe thead th {\n",
       "        text-align: right;\n",
       "    }\n",
       "</style>\n",
       "<table border=\"1\" class=\"dataframe\">\n",
       "  <thead>\n",
       "    <tr style=\"text-align: right;\">\n",
       "      <th></th>\n",
       "      <th>reviewId</th>\n",
       "      <th>userName</th>\n",
       "      <th>userImage</th>\n",
       "      <th>content</th>\n",
       "      <th>score</th>\n",
       "      <th>thumbsUpCount</th>\n",
       "      <th>reviewCreatedVersion</th>\n",
       "      <th>at</th>\n",
       "      <th>replyContent</th>\n",
       "      <th>repliedAt</th>\n",
       "      <th>sortOrder</th>\n",
       "      <th>appId</th>\n",
       "    </tr>\n",
       "  </thead>\n",
       "  <tbody>\n",
       "    <tr>\n",
       "      <th>0</th>\n",
       "      <td>9aec2da3-f296-4e6a-b58d-c27889d0220e</td>\n",
       "      <td>Kenny Dellinger</td>\n",
       "      <td>https://play-lh.googleusercontent.com/a-/AFdZu...</td>\n",
       "      <td>This app is horrible! It shows you the ranking...</td>\n",
       "      <td>1</td>\n",
       "      <td>11</td>\n",
       "      <td>1.1.5</td>\n",
       "      <td>2021-10-28 15:06:54</td>\n",
       "      <td>NaN</td>\n",
       "      <td>NaN</td>\n",
       "      <td>most_relevant</td>\n",
       "      <td>steptracker.healthandfitness.walkingtracker.pe...</td>\n",
       "    </tr>\n",
       "    <tr>\n",
       "      <th>1</th>\n",
       "      <td>975cf970-c461-4a72-9a34-c4cabb3b4f41</td>\n",
       "      <td>Louis Le</td>\n",
       "      <td>https://play-lh.googleusercontent.com/a/AItbvm...</td>\n",
       "      <td>Everything is decent but need at option to set...</td>\n",
       "      <td>1</td>\n",
       "      <td>9</td>\n",
       "      <td>1.1.5</td>\n",
       "      <td>2021-01-02 17:57:46</td>\n",
       "      <td>NaN</td>\n",
       "      <td>NaN</td>\n",
       "      <td>most_relevant</td>\n",
       "      <td>steptracker.healthandfitness.walkingtracker.pe...</td>\n",
       "    </tr>\n",
       "    <tr>\n",
       "      <th>2</th>\n",
       "      <td>adca097b-fdec-46ff-8467-9f0c62332d37</td>\n",
       "      <td>Erik Erikson</td>\n",
       "      <td>https://play-lh.googleusercontent.com/a-/AFdZu...</td>\n",
       "      <td>Don't bother! This app is useless. 1st day I u...</td>\n",
       "      <td>1</td>\n",
       "      <td>7</td>\n",
       "      <td>1.1.5</td>\n",
       "      <td>2021-01-02 13:50:24</td>\n",
       "      <td>NaN</td>\n",
       "      <td>NaN</td>\n",
       "      <td>most_relevant</td>\n",
       "      <td>steptracker.healthandfitness.walkingtracker.pe...</td>\n",
       "    </tr>\n",
       "    <tr>\n",
       "      <th>3</th>\n",
       "      <td>6bf89956-c26f-47d1-ad23-d2bb7ff725db</td>\n",
       "      <td>John Connor</td>\n",
       "      <td>https://play-lh.googleusercontent.com/a/AItbvm...</td>\n",
       "      <td>Works great, but I turned off all voice prompt...</td>\n",
       "      <td>1</td>\n",
       "      <td>23</td>\n",
       "      <td>1.2.1</td>\n",
       "      <td>2021-06-06 12:13:53</td>\n",
       "      <td>Hi John, sorry for the inconvenience.\\nYou can...</td>\n",
       "      <td>2021-06-11 10:17:13</td>\n",
       "      <td>most_relevant</td>\n",
       "      <td>steptracker.healthandfitness.walkingtracker.pe...</td>\n",
       "    </tr>\n",
       "    <tr>\n",
       "      <th>4</th>\n",
       "      <td>0c8203a4-08b4-408f-9157-84e66393bfdd</td>\n",
       "      <td>A Google user</td>\n",
       "      <td>https://play-lh.googleusercontent.com/EGemoI2N...</td>\n",
       "      <td>Dtay away from this app! The app never turned ...</td>\n",
       "      <td>1</td>\n",
       "      <td>4</td>\n",
       "      <td>NaN</td>\n",
       "      <td>2020-01-18 17:37:08</td>\n",
       "      <td>NaN</td>\n",
       "      <td>NaN</td>\n",
       "      <td>most_relevant</td>\n",
       "      <td>steptracker.healthandfitness.walkingtracker.pe...</td>\n",
       "    </tr>\n",
       "  </tbody>\n",
       "</table>\n",
       "</div>"
      ],
      "text/plain": [
       "                               reviewId         userName  \\\n",
       "0  9aec2da3-f296-4e6a-b58d-c27889d0220e  Kenny Dellinger   \n",
       "1  975cf970-c461-4a72-9a34-c4cabb3b4f41         Louis Le   \n",
       "2  adca097b-fdec-46ff-8467-9f0c62332d37     Erik Erikson   \n",
       "3  6bf89956-c26f-47d1-ad23-d2bb7ff725db      John Connor   \n",
       "4  0c8203a4-08b4-408f-9157-84e66393bfdd    A Google user   \n",
       "\n",
       "                                           userImage  \\\n",
       "0  https://play-lh.googleusercontent.com/a-/AFdZu...   \n",
       "1  https://play-lh.googleusercontent.com/a/AItbvm...   \n",
       "2  https://play-lh.googleusercontent.com/a-/AFdZu...   \n",
       "3  https://play-lh.googleusercontent.com/a/AItbvm...   \n",
       "4  https://play-lh.googleusercontent.com/EGemoI2N...   \n",
       "\n",
       "                                             content  score  thumbsUpCount  \\\n",
       "0  This app is horrible! It shows you the ranking...      1             11   \n",
       "1  Everything is decent but need at option to set...      1              9   \n",
       "2  Don't bother! This app is useless. 1st day I u...      1              7   \n",
       "3  Works great, but I turned off all voice prompt...      1             23   \n",
       "4  Dtay away from this app! The app never turned ...      1              4   \n",
       "\n",
       "  reviewCreatedVersion                   at  \\\n",
       "0                1.1.5  2021-10-28 15:06:54   \n",
       "1                1.1.5  2021-01-02 17:57:46   \n",
       "2                1.1.5  2021-01-02 13:50:24   \n",
       "3                1.2.1  2021-06-06 12:13:53   \n",
       "4                  NaN  2020-01-18 17:37:08   \n",
       "\n",
       "                                        replyContent            repliedAt  \\\n",
       "0                                                NaN                  NaN   \n",
       "1                                                NaN                  NaN   \n",
       "2                                                NaN                  NaN   \n",
       "3  Hi John, sorry for the inconvenience.\\nYou can...  2021-06-11 10:17:13   \n",
       "4                                                NaN                  NaN   \n",
       "\n",
       "       sortOrder                                              appId  \n",
       "0  most_relevant  steptracker.healthandfitness.walkingtracker.pe...  \n",
       "1  most_relevant  steptracker.healthandfitness.walkingtracker.pe...  \n",
       "2  most_relevant  steptracker.healthandfitness.walkingtracker.pe...  \n",
       "3  most_relevant  steptracker.healthandfitness.walkingtracker.pe...  \n",
       "4  most_relevant  steptracker.healthandfitness.walkingtracker.pe...  "
      ]
     },
     "execution_count": 4,
     "metadata": {},
     "output_type": "execute_result"
    }
   ],
   "source": [
    "df = pd.read_csv('data/app_reviews.csv')\n",
    "df.head()"
   ]
  },
  {
   "cell_type": "code",
   "execution_count": 5,
   "id": "3d5b40d5",
   "metadata": {},
   "outputs": [
    {
     "data": {
      "image/png": "[encoded data removed]",
      "text/plain": [
       "<Figure size 864x576 with 1 Axes>"
      ]
     },
     "metadata": {
      "image/png": {
       "height": 508,
       "width": 730
      }
     },
     "output_type": "display_data"
    }
   ],
   "source": [
    "def score_to_sentiment(score):\n",
    "    score = int(score)\n",
    "    if score <= 2:\n",
    "        return 1\n",
    "    elif score == 3:\n",
    "        return 0\n",
    "    else:\n",
    "        return 2\n",
    "df['sentiment_score'] = df['score'].apply(score_to_sentiment)\n",
    "df['sentiment']=df['sentiment_score'].replace({1:'negative',0:'neutral',2:'positive'})\n",
    "df['sentiment'].value_counts().plot(kind='bar')\n",
    "classes = [ 'neutral','negative', 'positive']"
   ]
  },
  {
   "cell_type": "code",
   "execution_count": 6,
   "id": "b47bec0b",
   "metadata": {},
   "outputs": [],
   "source": [
    "df=df[df['sentiment']!='neutral']"
   ]
  },
  {
   "cell_type": "code",
   "execution_count": 7,
   "id": "f44d06f1",
   "metadata": {},
   "outputs": [],
   "source": [
    "df['sentiment']\n",
    "df['sentiment_score']=df['sentiment_score'].replace({1:0,2:1})"
   ]
  },
  {
   "cell_type": "code",
   "execution_count": 8,
   "id": "fdd42e61",
   "metadata": {},
   "outputs": [
    {
     "data": {
      "text/plain": [
       "1    0.51064\n",
       "0    0.48936\n",
       "Name: sentiment_score, dtype: float64"
      ]
     },
     "execution_count": 8,
     "metadata": {},
     "output_type": "execute_result"
    }
   ],
   "source": [
    "df['sentiment_score'].value_counts()/len(df['sentiment_score'])"
   ]
  },
  {
   "cell_type": "code",
   "execution_count": 9,
   "id": "88c5e35c",
   "metadata": {},
   "outputs": [],
   "source": [
    "#df=df.sample(8000)"
   ]
  },
  {
   "cell_type": "code",
   "execution_count": 10,
   "id": "6a882dce",
   "metadata": {},
   "outputs": [
    {
     "data": {
      "text/plain": [
       "reviewId                    0\n",
       "userName                    0\n",
       "userImage                   0\n",
       "content                     1\n",
       "score                       0\n",
       "thumbsUpCount               0\n",
       "reviewCreatedVersion     3529\n",
       "at                          0\n",
       "replyContent            16191\n",
       "repliedAt               16191\n",
       "sortOrder                   0\n",
       "appId                       0\n",
       "sentiment_score             0\n",
       "sentiment                   0\n",
       "dtype: int64"
      ]
     },
     "execution_count": 10,
     "metadata": {},
     "output_type": "execute_result"
    }
   ],
   "source": [
    "df.isnull().sum()"
   ]
  },
  {
   "cell_type": "code",
   "execution_count": 11,
   "id": "680ce0ed",
   "metadata": {},
   "outputs": [],
   "source": [
    "df=df.dropna()"
   ]
  },
  {
   "cell_type": "code",
   "execution_count": 12,
   "id": "b9c89b53",
   "metadata": {},
   "outputs": [
    {
     "name": "stdout",
     "output_type": "stream",
     "text": [
      "(4265,)\n",
      "(1067,)\n"
     ]
    }
   ],
   "source": [
    "train_content, test_content,train_sentiments,test_sentiments= train_test_split(df['content'],df['sentiment_score'],test_size=0.2,random_state=RANDOM_SEED, stratify=df['sentiment'])\n",
    "print(train_content.shape)\n",
    "print(test_content.shape)"
   ]
  },
  {
   "cell_type": "code",
   "execution_count": 14,
   "id": "839725d1",
   "metadata": {},
   "outputs": [
    {
     "data": {
      "text/plain": [
       "10723    Lots of strength workous. Workout names like K...\n",
       "30429    I hear some gibberish numbers while workout an...\n",
       "25414    I have no idea how come people have this much ...\n",
       "289      It worked fine for one day and then it quit wo...\n",
       "26142    Since I've purchased the subscription and have...\n",
       "                               ...                        \n",
       "24145                                     It is a paid app\n",
       "18979                                            Good ones\n",
       "26224                                         Just awesome\n",
       "20540                                            Wonderful\n",
       "12497      This app is very good app This is really worked\n",
       "Name: content, Length: 4265, dtype: object"
      ]
     },
     "execution_count": 14,
     "metadata": {},
     "output_type": "execute_result"
    }
   ],
   "source": [
    "train_content.astype('str')"
   ]
  },
  {
   "cell_type": "code",
   "execution_count": 18,
   "id": "99059b55",
   "metadata": {},
   "outputs": [],
   "source": [
    "from sklearn.metrics import accuracy_score, roc_curve, auc\n",
    "\n",
    "def evaluate_roc(probs, y_true):\n",
    "\n",
    "    preds = probs[:, 1]\n",
    "    fpr, tpr, threshold = roc_curve(y_true, preds)\n",
    "    roc_auc = auc(fpr, tpr)\n",
    "    print(f'AUC: {roc_auc:.4f}')\n",
    "       \n",
    "    # Get accuracy over the test set\n",
    "    y_pred = np.where(preds >= 0.5, 1, 0)\n",
    "    accuracy = accuracy_score(y_true, y_pred)\n",
    "    print(f'Accuracy: {accuracy*100:.2f}%')\n",
    "    \n",
    "    # Plot ROC AUC\n",
    "    plt.title('Receiver Operating Characteristic')\n",
    "    plt.plot(fpr, tpr, 'b', label = 'AUC = %0.2f' % roc_auc)\n",
    "    plt.legend(loc = 'lower right')\n",
    "    plt.plot([0, 1], [0, 1],'r--')\n",
    "    plt.xlim([0, 1])\n",
    "    plt.ylim([0, 1])\n",
    "    plt.ylabel('True Positive Rate')\n",
    "    plt.xlabel('False Positive Rate')\n",
    "    plt.show()"
   ]
  },
  {
   "cell_type": "code",
   "execution_count": 20,
   "id": "300eb514",
   "metadata": {},
   "outputs": [],
   "source": [
    "def text_preprocessing(text):\n",
    "    text = re.sub(r'(@.*?)[\\s]', ' ', text)\n",
    "    text = re.sub(r'&amp;', '&', text)\n",
    "    text = re.sub(r'\\s+', ' ', text).strip()\n",
    "\n",
    "    return text"
   ]
  },
  {
   "cell_type": "code",
   "execution_count": 21,
   "id": "6a126d9c",
   "metadata": {},
   "outputs": [
    {
     "data": {
      "text/plain": [
       "'Lots of strength workous. Workout names like Kilo, Lima is just useless. When looking for a workout in All Workouts section: - I want to see the body area its targeting: core, upper, lower, chest etc - The intensity: high / low - Level: Beginner / Intermediate Currently I have to open the workout info to discard it and go backwhich wastes more of my time.'"
      ]
     },
     "execution_count": 21,
     "metadata": {},
     "output_type": "execute_result"
    }
   ],
   "source": [
    "train_content.iloc[0]"
   ]
  },
  {
   "cell_type": "code",
   "execution_count": 22,
   "id": "11eb0d1c",
   "metadata": {},
   "outputs": [
    {
     "name": "stdout",
     "output_type": "stream",
     "text": [
      "Original:  Where is the end subscription button I don't see it\n",
      "Processed:  Where is the end subscription button I don't see it\n"
     ]
    }
   ],
   "source": [
    "# Print sentence 0\n",
    "print('Original: ', train_content.iloc[10])\n",
    "print('Processed: ', text_preprocessing(train_content.iloc[10]))"
   ]
  },
  {
   "cell_type": "code",
   "execution_count": 23,
   "id": "0892ecc5",
   "metadata": {},
   "outputs": [],
   "source": [
    "from transformers import BertTokenizer\n",
    "\n",
    "# Load the BERT tokenizer\n",
    "tokenizer = BertTokenizer.from_pretrained('bert-base-cased', do_lower_case=True)\n",
    "\n",
    "# Create a function to tokenize a set of texts\n",
    "def preprocessing_for_bert(data):\n",
    " \n",
    "    # Create empty lists to store outputs\n",
    "    input_ids = []\n",
    "    attention_masks = []\n",
    "\n",
    "\n",
    "    for sent in data:\n",
    "\n",
    "        encoded_sent = tokenizer.encode_plus(\n",
    "            text=text_preprocessing(sent),  \n",
    "            add_special_tokens=True,        \n",
    "            max_length=MAX_LEN,             \n",
    "            pad_to_max_length=True,         \n",
    "           \n",
    "            return_attention_mask=True      \n",
    "            )\n",
    "\n",
    "        input_ids.append(encoded_sent.get('input_ids'))\n",
    "        attention_masks.append(encoded_sent.get('attention_mask'))\n",
    "\n",
    "\n",
    "    input_ids = torch.tensor(input_ids)\n",
    "    attention_masks = torch.tensor(attention_masks)\n",
    "\n",
    "    return input_ids, attention_masks"
   ]
  },
  {
   "cell_type": "code",
   "execution_count": 25,
   "id": "6a2558dd",
   "metadata": {},
   "outputs": [
    {
     "name": "stderr",
     "output_type": "stream",
     "text": [
      "Truncation was not explicitly activated but `max_length` is provided a specific value, please use `truncation=True` to explicitly truncate examples to max length. Defaulting to 'longest_first' truncation strategy. If you encode pairs of sequences (GLUE-style) with the tokenizer you can select this strategy more precisely by providing a specific strategy to `truncation`.\n"
     ]
    },
    {
     "name": "stdout",
     "output_type": "stream",
     "text": [
      "Original:  Where is the end subscription button I don't see it\n",
      "Token IDs:  [101, 1187, 1110, 1103, 1322, 16759, 6324, 178, 1274, 112, 189, 1267, 1122, 102, 0, 0, 0, 0, 0, 0, 0, 0, 0, 0, 0, 0, 0, 0, 0, 0, 0, 0, 0, 0, 0, 0, 0, 0, 0, 0, 0, 0, 0, 0, 0, 0, 0, 0, 0, 0, 0, 0, 0, 0, 0, 0, 0, 0, 0, 0, 0, 0, 0, 0, 0, 0, 0, 0, 0, 0, 0, 0, 0, 0, 0, 0, 0, 0, 0, 0, 0, 0, 0, 0, 0, 0, 0, 0, 0, 0, 0, 0, 0, 0, 0, 0, 0, 0, 0, 0, 0, 0, 0, 0, 0, 0, 0, 0, 0, 0, 0, 0, 0, 0, 0, 0, 0, 0, 0, 0, 0, 0, 0, 0, 0, 0, 0, 0, 0, 0, 0, 0, 0, 0, 0, 0, 0, 0, 0, 0, 0, 0, 0, 0, 0, 0, 0, 0, 0, 0, 0, 0, 0, 0, 0, 0, 0, 0, 0, 0, 0, 0, 0, 0, 0, 0, 0, 0, 0, 0, 0, 0, 0, 0, 0, 0, 0, 0, 0, 0, 0, 0, 0, 0, 0, 0, 0, 0, 0, 0, 0, 0, 0, 0, 0, 0, 0, 0, 0, 0, 0, 0, 0, 0, 0, 0, 0, 0, 0, 0, 0, 0, 0, 0, 0, 0, 0, 0, 0, 0, 0, 0, 0, 0, 0, 0, 0, 0, 0, 0, 0, 0, 0, 0, 0, 0, 0, 0, 0, 0, 0, 0, 0, 0, 0, 0, 0, 0, 0, 0, 0, 0, 0, 0, 0, 0, 0, 0, 0, 0, 0, 0, 0, 0, 0, 0, 0, 0, 0, 0, 0, 0, 0, 0, 0, 0, 0, 0, 0, 0, 0, 0, 0, 0, 0, 0, 0, 0, 0, 0, 0, 0, 0, 0, 0, 0, 0, 0, 0, 0]\n",
      "Tokenizing data...\n"
     ]
    },
    {
     "name": "stderr",
     "output_type": "stream",
     "text": [
      "C:\\Users\\Hyacinth\\anaconda3\\envs\\tensorflow\\lib\\site-packages\\transformers\\tokenization_utils_base.py:2301: FutureWarning: The `pad_to_max_length` argument is deprecated and will be removed in a future version, use `padding=True` or `padding='longest'` to pad to the longest sequence in the batch, or use `padding='max_length'` to pad to a max length. In this case, you can give a specific length with `max_length` (e.g. `max_length=45`) or leave max_length to None to pad to the maximal input size of the model (e.g. 512 for Bert).\n",
      "  warnings.warn(\n"
     ]
    }
   ],
   "source": [
    "\n",
    "MAX_LEN = 300\n",
    "\n",
    "token_ids = list(preprocessing_for_bert([train_content.iloc[10]])[0].squeeze().numpy())\n",
    "print('Original: ', train_content.iloc[10])\n",
    "print('Token IDs: ', token_ids)\n",
    "\n",
    "print('Tokenizing data...')\n",
    "train_inputs, train_masks = preprocessing_for_bert(train_content)\n",
    "val_inputs, val_masks = preprocessing_for_bert(test_content)"
   ]
  },
  {
   "cell_type": "code",
   "execution_count": 26,
   "id": "b954af1c",
   "metadata": {},
   "outputs": [],
   "source": [
    "from torch.utils.data import TensorDataset, DataLoader, RandomSampler, SequentialSampler"
   ]
  },
  {
   "cell_type": "code",
   "execution_count": 27,
   "id": "e6f8a321",
   "metadata": {},
   "outputs": [],
   "source": [
    "train_labels = torch.tensor(train_sentiments.values)\n",
    "val_labels = torch.tensor(test_sentiments.values)\n",
    "\n",
    "\n",
    "batch_size = 32\n",
    "\n",
    "train_data = TensorDataset(train_inputs, train_masks, train_labels)\n",
    "train_sampler = RandomSampler(train_data)\n",
    "train_dataloader = DataLoader(train_data, sampler=train_sampler, batch_size=batch_size)\n",
    "\n",
    "val_data = TensorDataset(val_inputs, val_masks, val_labels)\n",
    "val_sampler = SequentialSampler(val_data)\n",
    "val_dataloader = DataLoader(val_data, sampler=val_sampler, batch_size=batch_size)"
   ]
  },
  {
   "cell_type": "code",
   "execution_count": 28,
   "id": "e6f7374f",
   "metadata": {},
   "outputs": [
    {
     "name": "stdout",
     "output_type": "stream",
     "text": [
      "CPU times: total: 0 ns\n",
      "Wall time: 0 ns\n"
     ]
    }
   ],
   "source": [
    "%%time\n",
    "import torch\n",
    "import torch.nn as nn\n",
    "from transformers import BertModel\n",
    "\n",
    "# Create the BertClassfier class\n",
    "class BertClassifier(nn.Module):\n",
    "\n",
    "    def __init__(self, freeze_bert=True):\n",
    "\n",
    "        super(BertClassifier, self).__init__()\n",
    "\n",
    "        D_in, H, D_out = 768, 64, 2\n",
    "\n",
    "        self.bert = BertModel.from_pretrained('bert-base-cased')\n",
    "\n",
    "        self.classifier = nn.Sequential(\n",
    "            nn.Linear(D_in, H),\n",
    "            nn.ReLU(),\n",
    "\n",
    "            nn.Linear(H, D_out)\n",
    "        )\n",
    "\n",
    "        # Freeze the BERT model\n",
    "        if freeze_bert:\n",
    "            for param in self.bert.parameters():\n",
    "                param.requires_grad = False\n",
    "        \n",
    "    def forward(self, input_ids, attention_mask):\n",
    "        \n",
    "\n",
    "        outputs = self.bert(input_ids=input_ids,\n",
    "                            attention_mask=attention_mask)\n",
    "\n",
    "        last_hidden_state_cls = outputs[0][:, 0, :]\n",
    "\n",
    "        logits = self.classifier(last_hidden_state_cls)\n",
    "\n",
    "        return logits"
   ]
  },
  {
   "cell_type": "code",
   "execution_count": 29,
   "id": "e9f139ef",
   "metadata": {},
   "outputs": [],
   "source": [
    "from transformers import AdamW, get_linear_schedule_with_warmup\n",
    "\n",
    "def initialize_model(epochs=4):\n",
    "\n",
    "    bert_classifier = BertClassifier(freeze_bert=True)\n",
    "\n",
    "\n",
    "    bert_classifier.to(device)\n",
    "\n",
    "    optimizer = AdamW(bert_classifier.parameters(),\n",
    "                      lr=5e-5,    \n",
    "                      eps=1e-8    \n",
    "                      )\n",
    "\n",
    "    total_steps = len(train_dataloader) * epochs\n",
    "\n",
    "    scheduler = get_linear_schedule_with_warmup(optimizer,\n",
    "                                                num_warmup_steps=0, # Default value\n",
    "                                                num_training_steps=total_steps)\n",
    "    return bert_classifier, optimizer, scheduler"
   ]
  },
  {
   "cell_type": "code",
   "execution_count": 30,
   "id": "6b940803",
   "metadata": {},
   "outputs": [],
   "source": [
    "import random\n",
    "import time\n",
    "\n",
    "# Specify loss function\n",
    "loss_fn = nn.CrossEntropyLoss()\n",
    "\n",
    "def set_seed(seed_value=42):\n",
    "\n",
    "\n",
    "    random.seed(seed_value)\n",
    "    np.random.seed(seed_value)\n",
    "    torch.manual_seed(seed_value)\n",
    "    torch.cuda.manual_seed_all(seed_value)\n",
    "\n",
    "def train(model, train_dataloader, val_dataloader=None, epochs=4, evaluation=False):\n",
    "   \n",
    "    # Start training loop\n",
    "    print(\"Start training...\\n\")\n",
    "    for epoch_i in range(epochs):\n",
    "\n",
    "        print(f\"{'Epoch':^7} | {'Batch':^7} | {'Train Loss':^12} | {'Val Loss':^10} | {'Val Acc':^9} | {'Elapsed':^9}\")\n",
    "        print(\"-\"*70)\n",
    "\n",
    "\n",
    "        t0_epoch, t0_batch = time.time(), time.time()\n",
    "\n",
    "        # Reset tracking variables at the beginning of each epoch\n",
    "        total_loss, batch_loss, batch_counts = 0, 0, 0\n",
    "\n",
    "        # Put the model into the training mode\n",
    "        model.train()\n",
    "\n",
    "\n",
    "        for step, batch in enumerate(train_dataloader):\n",
    "            batch_counts +=1\n",
    "            # Load batch to GPU\n",
    "            b_input_ids, b_attn_mask, b_labels = tuple(t.to(device) for t in batch)\n",
    "\n",
    "\n",
    "            model.zero_grad()\n",
    "\n",
    "            logits = model(b_input_ids, b_attn_mask)\n",
    "\n",
    "\n",
    "            loss = loss_fn(logits, b_labels)\n",
    "            batch_loss += loss.item()\n",
    "            total_loss += loss.item()\n",
    "\n",
    "\n",
    "            loss.backward()\n",
    "\n",
    "            torch.nn.utils.clip_grad_norm_(model.parameters(), 1.0)\n",
    "\n",
    "            # Update parameters and the learning rate\n",
    "            optimizer.step()\n",
    "            scheduler.step()\n",
    "\n",
    "            \n",
    "            if (step % 20 == 0 and step != 0) or (step == len(train_dataloader) - 1):\n",
    "                # Calculate time elapsed for 20 batches\n",
    "                time_elapsed = time.time() - t0_batch\n",
    "\n",
    "                \n",
    "                print(f\"{epoch_i + 1:^7} | {step:^7} | {batch_loss / batch_counts:^12.6f} | {'-':^10} | {'-':^9} | {time_elapsed:^9.2f}\")\n",
    "\n",
    "                batch_loss, batch_counts = 0, 0\n",
    "                t0_batch = time.time()\n",
    "\n",
    "        \n",
    "        avg_train_loss = total_loss / len(train_dataloader)\n",
    "\n",
    "        print(\"-\"*70)\n",
    "       \n",
    "        if evaluation == True:\n",
    "      \n",
    "            val_loss, val_accuracy = evaluate(model, val_dataloader)\n",
    "\n",
    "            time_elapsed = time.time() - t0_epoch\n",
    "            \n",
    "            print(f\"{epoch_i + 1:^7} | {'-':^7} | {avg_train_loss:^12.6f} | {val_loss:^10.6f} | {val_accuracy:^9.2f} | {time_elapsed:^9.2f}\")\n",
    "            print(\"-\"*70)\n",
    "        print(\"\\n\")\n",
    "    \n",
    "    print(\"Training complete!\")\n",
    "\n",
    "\n",
    "def evaluate(model, val_dataloader):\n",
    "    \n",
    "\n",
    "    model.eval()\n",
    "\n",
    "\n",
    "    val_accuracy = []\n",
    "    val_loss = []\n",
    "\n",
    "    for batch in val_dataloader:\n",
    "     \n",
    "        b_input_ids, b_attn_mask, b_labels = tuple(t.to(device) for t in batch)\n",
    "\n",
    "    \n",
    "        with torch.no_grad():\n",
    "            logits = model(b_input_ids, b_attn_mask)\n",
    "\n",
    "        \n",
    "        loss = loss_fn(logits, b_labels)\n",
    "        val_loss.append(loss.item())\n",
    "\n",
    "       \n",
    "        preds = torch.argmax(logits, dim=1).flatten()\n",
    "\n",
    "    \n",
    "        accuracy = (preds == b_labels).cpu().numpy().mean() * 100\n",
    "        val_accuracy.append(accuracy)\n",
    "\n",
    "\n",
    "    val_loss = np.mean(val_loss)\n",
    "    val_accuracy = np.mean(val_accuracy)\n",
    "\n",
    "    return val_loss, val_accuracy"
   ]
  },
  {
   "cell_type": "code",
   "execution_count": 32,
   "id": "baa3ae6e",
   "metadata": {
    "scrolled": false
   },
   "outputs": [
    {
     "name": "stderr",
     "output_type": "stream",
     "text": [
      "Some weights of the model checkpoint at bert-base-cased were not used when initializing BertModel: ['cls.predictions.decoder.weight', 'cls.predictions.transform.dense.weight', 'cls.seq_relationship.bias', 'cls.seq_relationship.weight', 'cls.predictions.transform.dense.bias', 'cls.predictions.transform.LayerNorm.weight', 'cls.predictions.bias', 'cls.predictions.transform.LayerNorm.bias']\n",
      "- This IS expected if you are initializing BertModel from the checkpoint of a model trained on another task or with another architecture (e.g. initializing a BertForSequenceClassification model from a BertForPreTraining model).\n",
      "- This IS NOT expected if you are initializing BertModel from the checkpoint of a model that you expect to be exactly identical (initializing a BertForSequenceClassification model from a BertForSequenceClassification model).\n",
      "C:\\Users\\Hyacinth\\anaconda3\\envs\\tensorflow\\lib\\site-packages\\transformers\\optimization.py:306: FutureWarning: This implementation of AdamW is deprecated and will be removed in a future version. Use the PyTorch implementation torch.optim.AdamW instead, or set `no_deprecation_warning=True` to disable this warning\n",
      "  warnings.warn(\n"
     ]
    }
   ],
   "source": [
    "set_seed(42)    \n",
    "bert_classifier, optimizer, scheduler = initialize_model()\n",
    "train(bert_classifier, train_dataloader, val_dataloader, epochs=15, evaluation=True)\n",
    "torch.save(bert_classifier.state_dict(), 'current_weights.pt')"
   ]
  },
  {
   "cell_type": "code",
   "execution_count": 33,
   "id": "f15a62b4",
   "metadata": {},
   "outputs": [],
   "source": [
    "import torch.nn.functional as F\n",
    "\n",
    "def bert_predict(model, test_dataloader):\n",
    "\n",
    "    model.eval()\n",
    "\n",
    "    all_logits = []\n",
    "\n",
    "    for batch in test_dataloader:\n",
    "    \n",
    "        b_input_ids, b_attn_mask = tuple(t.to(device) for t in batch)[:2]\n",
    "\n",
    "        with torch.no_grad():\n",
    "            logits = model(b_input_ids, b_attn_mask)\n",
    "        all_logits.append(logits)\n",
    "    \n",
    "    \n",
    "    all_logits = torch.cat(all_logits, dim=0)\n",
    "\n",
    "\n",
    "    probs = F.softmax(all_logits, dim=1).cpu().numpy()\n",
    "\n",
    "    return probs"
   ]
  },
  {
   "cell_type": "code",
   "execution_count": 35,
   "id": "2bb8d8df",
   "metadata": {},
   "outputs": [
    {
     "data": {
      "text/plain": [
       "<All keys matched successfully>"
      ]
     },
     "execution_count": 35,
     "metadata": {},
     "output_type": "execute_result"
    }
   ],
   "source": [
    "path = \"model_weights.pt\"\n",
    "bert_classifier.load_state_dict(torch.load(path))"
   ]
  }
 ],
 "metadata": {
  "kernelspec": {
   "display_name": "Python 3 (ipykernel)",
   "language": "python",
   "name": "python3"
  },
  "language_info": {
   "codemirror_mode": {
    "name": "ipython",
    "version": 3
   },
   "file_extension": ".py",
   "mimetype": "text/x-python",
   "name": "python",
   "nbconvert_exporter": "python",
   "pygments_lexer": "ipython3",
   "version": "3.9.12"
  }
 },
 "nbformat": 4,
 "nbformat_minor": 5
}
